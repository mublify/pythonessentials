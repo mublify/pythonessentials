{
  "cells": [
    {
      "cell_type": "markdown",
      "id": "8e6cff26",
      "metadata": {},
      "source": [
        "# Python Assignment 1\n",
        "## Atomcamp | Data Science Bootcamp | Cohort 7\n",
        "### Muhammad Mubashir Quadri"
      ]
    },
    {
      "cell_type": "markdown",
      "id": "33956be4",
      "metadata": {
        "id": "33956be4"
      },
      "source": [
        "#### [Question1]\n",
        "\n",
        "a) Create a string variable called my_str containing the following sentence: Python programming is fun and powerful! <br>\n",
        "b) Find the length of my_str. <br>\n",
        "c) Replace \"fun\" in my_str with \"exciting.\" Store this back in my_str and print my_str <br>\n",
        "d) Find the index of the word powerful in my_str <br>\n",
        "e) Split the string into a list of words (google which function can help you do this). Store this in my_str_to_list and print it"
      ]
    },
    {
      "cell_type": "code",
      "execution_count": 1,
      "id": "4dfe59e8",
      "metadata": {
        "id": "4dfe59e8"
      },
      "outputs": [],
      "source": [
        "# create my_str below\n",
        "\n",
        "my_str='Python programming is fun and powerful!'"
      ]
    },
    {
      "cell_type": "code",
      "execution_count": 2,
      "id": "33b969da",
      "metadata": {
        "colab": {
          "base_uri": "https://localhost:8080/"
        },
        "id": "33b969da",
        "outputId": "b82df780-f7b3-4199-f5d1-6d07c795f63b"
      },
      "outputs": [
        {
          "name": "stdout",
          "output_type": "stream",
          "text": [
            "39\n"
          ]
        }
      ],
      "source": [
        "# find out the length of my_str. no need to store this anywhere\n",
        "\n",
        "print(len(my_str))"
      ]
    },
    {
      "cell_type": "code",
      "execution_count": 3,
      "id": "b45d1a3b",
      "metadata": {
        "colab": {
          "base_uri": "https://localhost:8080/",
          "height": 36
        },
        "id": "b45d1a3b",
        "outputId": "5fa07b6b-28fa-47fc-d334-d7b5942e6334"
      },
      "outputs": [
        {
          "data": {
            "text/plain": [
              "'Python programming is exciting and powerful!'"
            ]
          },
          "execution_count": 3,
          "metadata": {},
          "output_type": "execute_result"
        }
      ],
      "source": [
        "# update my_str so it has the word exciting instead of fun. print my_str at the end\n",
        "my_str = my_str.replace(\"fun\", \"exciting\")\n",
        "my_str"
      ]
    },
    {
      "cell_type": "code",
      "execution_count": 4,
      "id": "4c67c03c",
      "metadata": {
        "colab": {
          "base_uri": "https://localhost:8080/"
        },
        "id": "4c67c03c",
        "outputId": "3140f248-9b74-416b-9377-040c9c2ec07a"
      },
      "outputs": [
        {
          "data": {
            "text/plain": [
              "35"
            ]
          },
          "execution_count": 4,
          "metadata": {},
          "output_type": "execute_result"
        }
      ],
      "source": [
        "# find the index of the word powerful in my_str\n",
        "\n",
        "index = my_str.find(\"powerful\")\n",
        "index\n"
      ]
    },
    {
      "cell_type": "code",
      "execution_count": 5,
      "id": "bdfffa17",
      "metadata": {
        "colab": {
          "base_uri": "https://localhost:8080/"
        },
        "id": "bdfffa17",
        "outputId": "5b296d91-6988-4e23-a6d3-75581ef892d5"
      },
      "outputs": [
        {
          "data": {
            "text/plain": [
              "['Python', 'programming', 'is', 'exciting', 'and', 'powerful!']"
            ]
          },
          "execution_count": 5,
          "metadata": {},
          "output_type": "execute_result"
        }
      ],
      "source": [
        "# create my_str_to_list and store my_str split into a list of words in this. print my_str_to_list\n",
        "\n",
        "my_str_to_list = my_str.split()\n",
        "my_str_to_list\n"
      ]
    },
    {
      "cell_type": "markdown",
      "id": "2235471f",
      "metadata": {
        "id": "2235471f"
      },
      "source": [
        "#### [Question2]\n",
        "Given a variable called Celsius with the value 108.6, convert it to Fahrenheit. Google the formula for celcius to fahrenheit conversion. Print out Fahrenheit."
      ]
    },
    {
      "cell_type": "code",
      "execution_count": 6,
      "id": "3364767a",
      "metadata": {
        "colab": {
          "base_uri": "https://localhost:8080/"
        },
        "id": "3364767a",
        "outputId": "dc6031ee-d58b-4ae9-ed65-91a6949b669a"
      },
      "outputs": [
        {
          "data": {
            "text/plain": [
              "227.48"
            ]
          },
          "execution_count": 6,
          "metadata": {},
          "output_type": "execute_result"
        }
      ],
      "source": [
        "Celsius = 108.6\n",
        "\n",
        "  #(0°C × 9/5) + 32 = 32°F\n",
        "\n",
        "Fahrenheit = Celsius* 9/5+32\n",
        "\n",
        "\n",
        "#print out Fahrenheit below\n",
        "Fahrenheit\n"
      ]
    },
    {
      "cell_type": "markdown",
      "id": "f7069988",
      "metadata": {
        "id": "f7069988"
      },
      "source": [
        "#### [Question3]\n",
        "\n",
        "A university wants to write a program that will help them decide the eligibility of each applicant. The conditions are:\n",
        "- all admits must be 18 or older in age\n",
        "- if their GPA is 3.0 or above, they are eligible. If their GPA is 2.8 or above, they are eligible based on a performance test. Otherwise they are not eligible.\n",
        "\n",
        "\n",
        "Given the three lists names, ages and GPA:\n",
        "\n",
        "Write a for loop that will print out the following three things in each iteration:\n",
        "\n",
        "- Student (insert name) has age (insert age) and GPA (insert GPA)\n",
        "- Eligible for admission/ Eligible for admission based on performance test/ Not eligible for admission\n",
        "- New line\n",
        "\n",
        "example:\n",
        "\n",
        "Student Hassan Ali has age 19 and GPA 3.0 <br>\n",
        "Eligible for admission"
      ]
    },
    {
      "cell_type": "code",
      "execution_count": 7,
      "id": "3bd3d902",
      "metadata": {
        "colab": {
          "base_uri": "https://localhost:8080/"
        },
        "id": "3bd3d902",
        "outputId": "67678994-d01e-481c-a46e-9889a9ebc39e"
      },
      "outputs": [
        {
          "name": "stdout",
          "output_type": "stream",
          "text": [
            "Hassan Ali has age 19 and GPA 3.0\n",
            "Eligible for Admission\n",
            "\n",
            "\n",
            "Rabbiya Sarmad has age 17 and GPA 3.9\n",
            "Not Eligible\n",
            "\n",
            "\n",
            "Zara Haq has age 15 and GPA 2.5\n",
            "Not Eligible\n",
            "\n",
            "\n",
            "Hussain Rafay has age 21 and GPA 3.1\n",
            "Eligible for Admission\n",
            "\n",
            "\n",
            "Dua Hamid has age 18 and GPA 2.9\n",
            "Performance Test\n",
            "\n",
            "\n"
          ]
        }
      ],
      "source": [
        "names = ['Hassan Ali', 'Rabbiya Sarmad', 'Zara Haq', 'Hussain Rafay', 'Dua Hamid']\n",
        "ages = [19, 17, 15, 21, 18, 20]\n",
        "GPA = [3.0, 3.9, 2.5, 3.1, 2.9]\n",
        "\n",
        "\n",
        "# Write your for loop below:\n",
        "\n",
        "for i in range (len(names)):\n",
        "  print(names[i], \"has age\", ages[i], \"and GPA\", GPA[i])\n",
        "  if ages[i] < 18 or GPA[i]<2.8:\n",
        "    print(\"Not Eligible\\n\\n\")\n",
        "  elif GPA[i]<3 and GPA[i]>=2.8:\n",
        "    print(\"Performance Test\\n\\n\")\n",
        "  else:\n",
        "    print(\"Eligible for Admission\\n\\n\")\n"
      ]
    },
    {
      "cell_type": "markdown",
      "id": "893405b9",
      "metadata": {
        "id": "893405b9"
      },
      "source": [
        "#### [Question 4]\n",
        "\n",
        "Given the following list called numbers:\n",
        "\n",
        "a) Convert it into a tuple and print it. <br>\n",
        "b) Calculate the sum of this tuple. Store it in sum_numbers. print sum_numbers <br>\n",
        "c) Using slicing, fetch every odd indexed element from numbers <br>\n",
        "d) Create new **lists** called evens and odds. Using ONE for loop, add every even integer from the numbers tuple to evens and every odd number to odds. in the end, print numbers, evens and odds. <br>\n",
        "e) Would it be possible to do this if evens and odds were tuples instead of lists?"
      ]
    },
    {
      "cell_type": "code",
      "execution_count": 8,
      "id": "f0e87e0d",
      "metadata": {
        "colab": {
          "base_uri": "https://localhost:8080/"
        },
        "id": "f0e87e0d",
        "outputId": "96959da4-28e1-463c-f878-9d1314b149f9"
      },
      "outputs": [
        {
          "data": {
            "text/plain": [
              "(12, 34, 45, 67, 89, 100, 23, 56)"
            ]
          },
          "execution_count": 8,
          "metadata": {},
          "output_type": "execute_result"
        }
      ],
      "source": [
        "numbers =  [12, 34, 45, 67, 89, 100, 23, 56]\n",
        "\n",
        "#convert numbers into a tuple below and print numbers\n",
        "\n",
        "numbers = tuple(numbers)\n",
        "numbers"
      ]
    },
    {
      "cell_type": "code",
      "execution_count": 9,
      "id": "a41a80cb",
      "metadata": {
        "colab": {
          "base_uri": "https://localhost:8080/"
        },
        "id": "a41a80cb",
        "outputId": "0a4d3679-1acf-4532-f832-ba35c9dc0a6d"
      },
      "outputs": [
        {
          "data": {
            "text/plain": [
              "426"
            ]
          },
          "execution_count": 9,
          "metadata": {},
          "output_type": "execute_result"
        }
      ],
      "source": [
        "# create sum_numbers and store the sum of numbers in it. print sum_numbers\n",
        "sum_numbers = sum(numbers)\n",
        "sum_numbers"
      ]
    },
    {
      "cell_type": "code",
      "execution_count": 10,
      "id": "E6vOMqJxysaS",
      "metadata": {
        "colab": {
          "base_uri": "https://localhost:8080/"
        },
        "id": "E6vOMqJxysaS",
        "outputId": "6899d88f-1c78-4b2c-ed54-2b6bab167fa5"
      },
      "outputs": [
        {
          "name": "stdout",
          "output_type": "stream",
          "text": [
            "(34, 67, 100, 56)\n"
          ]
        }
      ],
      "source": [
        "# fetch every odd indexed element from numbers below. No need to store this anywhere, just show output\n",
        "\n",
        "print(numbers[1::2])"
      ]
    },
    {
      "cell_type": "code",
      "execution_count": 11,
      "id": "FfzNS08L3qx8",
      "metadata": {
        "colab": {
          "base_uri": "https://localhost:8080/"
        },
        "id": "FfzNS08L3qx8",
        "outputId": "3429aac4-d0b7-45b9-af03-9b71f1114bb6"
      },
      "outputs": [
        {
          "data": {
            "text/plain": [
              "(12, 34, 45, 67, 89, 100, 23, 56)"
            ]
          },
          "execution_count": 11,
          "metadata": {},
          "output_type": "execute_result"
        }
      ],
      "source": [
        "numbers"
      ]
    },
    {
      "cell_type": "code",
      "execution_count": 12,
      "id": "027c59f5",
      "metadata": {
        "colab": {
          "base_uri": "https://localhost:8080/"
        },
        "id": "027c59f5",
        "outputId": "253fce1b-737a-4c51-8713-4765add46e46"
      },
      "outputs": [
        {
          "name": "stdout",
          "output_type": "stream",
          "text": [
            "numbers: (12, 34, 45, 67, 89, 100, 23, 56) odds [45, 67, 89, 23] evens [12, 34, 100, 56]\n"
          ]
        }
      ],
      "source": [
        "# create empty lists called evens and odds below:\n",
        "evens=[]\n",
        "odds=[]\n",
        "\n",
        "# write a single for loop to add integers from the numbers tuple to evens and odds lists below:\n",
        "for i in range(len(numbers)):\n",
        "  if numbers[i]%2==0:\n",
        "    evens.append(numbers[i])\n",
        "  else:\n",
        "    odds.append(numbers[i])\n",
        "\n",
        "\n",
        "\n",
        "# print out numbers, evens and odd below\n",
        "print('numbers:', numbers,\n",
        "      'odds', odds,\n",
        "      'evens', evens)\n",
        "\n"
      ]
    },
    {
      "cell_type": "code",
      "execution_count": 13,
      "id": "4f801920",
      "metadata": {
        "id": "4f801920"
      },
      "outputs": [],
      "source": [
        "# comment if the above would be possible to do if evens and odds were tuples instead of lists?\n",
        "\n",
        "## No, because tuples are immutable"
      ]
    },
    {
      "cell_type": "markdown",
      "id": "57fe7528",
      "metadata": {
        "id": "57fe7528"
      },
      "source": [
        "#### [Question 5]\n",
        "\n",
        "a) Create a dictionary named \"capitals\" with three key-value pairs: \"USA\" - \"Washington DC\", \"France\" - \"Paris\",  and \"Japan\" - \"Tokyo\". Print the dictionary. <br>\n",
        "b) Add a new country and its capital to the \"capitals\" dictionary. The country is \"Germany\" and the capital is \"Berlin\". Print the updated dictionary. <br>\n",
        "c) Check if \"France\" exists in the \"capitals\" dictionary. If it does, print \"France is in the dictionary\" otherwise, print \"France is not in the dictionary\" (hint: you will need to use the keyword in)"
      ]
    },
    {
      "cell_type": "code",
      "execution_count": 14,
      "id": "fe365bbe",
      "metadata": {
        "colab": {
          "base_uri": "https://localhost:8080/"
        },
        "id": "fe365bbe",
        "outputId": "d543b216-f651-4cc6-baaa-9fef239d8839"
      },
      "outputs": [
        {
          "name": "stdout",
          "output_type": "stream",
          "text": [
            "{'USA': 'Washington DC', 'France': 'Paris', 'Japan': 'Tokyo'}\n"
          ]
        }
      ],
      "source": [
        "# create the dictionary capitals below with its key:value pairs and print it\n",
        "\n",
        "Capitals= {\"USA\":\"Washington DC\", \"France\":\"Paris\", \"Japan\":\"Tokyo\"}\n",
        "print(Capitals)\n"
      ]
    },
    {
      "cell_type": "code",
      "execution_count": 15,
      "id": "d219c2ce",
      "metadata": {
        "colab": {
          "base_uri": "https://localhost:8080/"
        },
        "id": "d219c2ce",
        "outputId": "d46ea2d9-c460-4b21-cd02-8f68a97f9feb"
      },
      "outputs": [
        {
          "data": {
            "text/plain": [
              "{'USA': 'Washington DC',\n",
              " 'France': 'Paris',\n",
              " 'Japan': 'Tokyo',\n",
              " 'Germany': 'Berlin'}"
            ]
          },
          "execution_count": 15,
          "metadata": {},
          "output_type": "execute_result"
        }
      ],
      "source": [
        "# add germany to capitals below and print updated dictionary\n",
        "\n",
        "Capitals[\"Germany\"] = \"Berlin\"\n",
        "Capitals"
      ]
    },
    {
      "cell_type": "code",
      "execution_count": 16,
      "id": "65940d65",
      "metadata": {
        "colab": {
          "base_uri": "https://localhost:8080/"
        },
        "id": "65940d65",
        "outputId": "d773cea2-eca6-4e35-9308-dd3564335453"
      },
      "outputs": [
        {
          "name": "stdout",
          "output_type": "stream",
          "text": [
            "France is in the dictionary\n"
          ]
        }
      ],
      "source": [
        "# check if france is in the dictionary and print \"France is in the dictionary\" or \"France is not in the dictionary\"\n",
        "\n",
        "if 'France' in Capitals:\n",
        "  print(\"France is in the dictionary\")\n",
        "else:\n",
        "  print(\"France is not in the dictionary\")\n"
      ]
    },
    {
      "cell_type": "markdown",
      "id": "810d9906",
      "metadata": {
        "id": "810d9906"
      },
      "source": [
        "#### [Question 6]\n",
        "\n",
        "The factorial of a number is as follows:\n",
        "\n",
        "factorial of 0 i.e. 0! is 1 <br>\n",
        "factorial of 1 i.e. 1! is 1 <br>\n",
        "factorial of 2 i.e. 2! is 2x1 <br>\n",
        "factorial of 3 i.e. 3! is 3x2x1 <br>\n",
        "factorial of 7 i.e. 7! is 7x6x5x4x3x2x1 <br>"
      ]
    },
    {
      "cell_type": "markdown",
      "id": "0e988127",
      "metadata": {
        "id": "0e988127"
      },
      "source": [
        "Write a program using a FOR loop to find the factorial of num and print out the result at the end"
      ]
    },
    {
      "cell_type": "code",
      "execution_count": 17,
      "id": "c9cc8905",
      "metadata": {
        "colab": {
          "base_uri": "https://localhost:8080/"
        },
        "id": "c9cc8905",
        "outputId": "40004934-e753-4f99-e83c-95e7ef72aba0"
      },
      "outputs": [
        {
          "name": "stdout",
          "output_type": "stream",
          "text": [
            "3628800\n"
          ]
        }
      ],
      "source": [
        "num = 10\n",
        "fact=1\n",
        "\n",
        "#write your for loop program below and only print out the result of num! at the end\n",
        "\n",
        "for q in range(num,1,-1):\n",
        "  fact*=q\n",
        "print(fact)"
      ]
    },
    {
      "cell_type": "markdown",
      "id": "44f66db7",
      "metadata": {
        "id": "44f66db7"
      },
      "source": [
        "Now rewrite the program using a WHILE loop"
      ]
    },
    {
      "cell_type": "code",
      "execution_count": 18,
      "id": "afd61d48",
      "metadata": {
        "id": "afd61d48"
      },
      "outputs": [
        {
          "name": "stdout",
          "output_type": "stream",
          "text": [
            "3628800\n"
          ]
        }
      ],
      "source": [
        "num = 10\n",
        "fact=1\n",
        "#write your while loop program below and only print out the result of num! at the end\n",
        "while num!=0:\n",
        "  fact=fact*num\n",
        "  num=num-1\n",
        "print(fact)\n"
      ]
    },
    {
      "cell_type": "markdown",
      "id": "1b21d24b",
      "metadata": {
        "id": "1b21d24b"
      },
      "source": [
        "Convert either one of the above programs into a function called **factorial()** that takes in a number and returns its factorial."
      ]
    },
    {
      "cell_type": "code",
      "execution_count": 19,
      "id": "9877e5f2",
      "metadata": {
        "id": "9877e5f2"
      },
      "outputs": [
        {
          "name": "stdout",
          "output_type": "stream",
          "text": [
            "3628800\n"
          ]
        }
      ],
      "source": [
        "#write your function below\n",
        "\n",
        "def factorial(num):\n",
        "    fact=1\n",
        "    while num!=0:\n",
        "        fact=fact*num\n",
        "        num=num-1\n",
        "    return fact\n",
        "print(fact)"
      ]
    },
    {
      "cell_type": "markdown",
      "id": "42a69fd4",
      "metadata": {
        "id": "42a69fd4"
      },
      "source": [
        "Call this factorial function on the numbers 0, 1, 8 and 10 and print each result (no need to store in variables). Is your function working fine for 0! and 1! ?"
      ]
    },
    {
      "cell_type": "code",
      "execution_count": 20,
      "id": "18e1c668",
      "metadata": {
        "id": "18e1c668"
      },
      "outputs": [
        {
          "data": {
            "text/plain": [
              "3628800"
            ]
          },
          "execution_count": 20,
          "metadata": {},
          "output_type": "execute_result"
        }
      ],
      "source": [
        "factorial(10)\n",
        "\n"
      ]
    },
    {
      "cell_type": "code",
      "execution_count": 21,
      "id": "63cc79eb",
      "metadata": {},
      "outputs": [
        {
          "data": {
            "text/plain": [
              "40320"
            ]
          },
          "execution_count": 21,
          "metadata": {},
          "output_type": "execute_result"
        }
      ],
      "source": [
        "factorial(8)"
      ]
    },
    {
      "cell_type": "code",
      "execution_count": 22,
      "id": "559a969f",
      "metadata": {},
      "outputs": [
        {
          "data": {
            "text/plain": [
              "1"
            ]
          },
          "execution_count": 22,
          "metadata": {},
          "output_type": "execute_result"
        }
      ],
      "source": [
        "factorial(1)"
      ]
    },
    {
      "cell_type": "code",
      "execution_count": 23,
      "id": "b95e118c",
      "metadata": {},
      "outputs": [
        {
          "data": {
            "text/plain": [
              "1"
            ]
          },
          "execution_count": 23,
          "metadata": {},
          "output_type": "execute_result"
        }
      ],
      "source": [
        "factorial(0)"
      ]
    },
    {
      "cell_type": "markdown",
      "id": "933bcc06",
      "metadata": {
        "id": "933bcc06"
      },
      "source": [
        "Call factorial on the number 6 and store its result in a variable called factorial_6. Print factorial_6"
      ]
    },
    {
      "cell_type": "code",
      "execution_count": 24,
      "id": "5950064e",
      "metadata": {
        "id": "5950064e"
      },
      "outputs": [],
      "source": [
        "\n",
        "\n",
        "factorial_6=factorial(6)"
      ]
    },
    {
      "cell_type": "markdown",
      "id": "b4e4f783",
      "metadata": {
        "id": "b4e4f783"
      },
      "source": [
        "#### [Question 7]"
      ]
    },
    {
      "cell_type": "markdown",
      "id": "b107ea28",
      "metadata": {
        "id": "b107ea28"
      },
      "source": [
        "Write a loop that converts the following two lists into one dictionary like so:\n",
        "{'Ten': 10, 'Twenty': 20, 'Thirty': 30, 'Forty': 40}. Print out this dictionary at the end."
      ]
    },
    {
      "cell_type": "code",
      "execution_count": 25,
      "id": "c05119c9",
      "metadata": {
        "id": "c05119c9"
      },
      "outputs": [
        {
          "data": {
            "text/plain": [
              "{'Ten': 10, 'Twenty': 20, 'Thirty': 30, 'Forty': 40}"
            ]
          },
          "execution_count": 25,
          "metadata": {},
          "output_type": "execute_result"
        }
      ],
      "source": [
        "keys = ['Ten', 'Twenty', 'Thirty', 'Forty']\n",
        "values = [10, 20, 30, 40]\n",
        "\n",
        "\n",
        "#write your program below\n",
        "\n",
        "result_dict = dict(zip(keys, values))\n",
        "result_dict\n"
      ]
    },
    {
      "cell_type": "markdown",
      "id": "32ea2c82",
      "metadata": {
        "id": "32ea2c82"
      },
      "source": [
        "Now use the code above and write a function **convert_to_dict()**, that takes in 2 lists and combines them into a dictionary and returns that dictionary. <br>\n",
        "1) **INSIDE** this function, first add a check to ensure that the two lists are of equal length. If the input lists are not of equal length, you should return an empty dictionary and print a message saying \"list lengths are not the same\". <br>\n",
        "2) set this function's defaults to empty lists. Doing this should return an empty dictionary if the function is called with no arguments."
      ]
    },
    {
      "cell_type": "code",
      "execution_count": 26,
      "id": "394150d8",
      "metadata": {},
      "outputs": [
        {
          "name": "stdout",
          "output_type": "stream",
          "text": [
            "list lengths are not the same\n"
          ]
        }
      ],
      "source": [
        "keys,values=[],[]\n",
        "k,v=0,0\n",
        "while k!='x':\n",
        "    k=input('Enter the first list of keys, or press x to cancel:  ')\n",
        "    keys.append(k)\n",
        "while v!='x':\n",
        "    v=input('Enter the values, or press x to cancel:  ')\n",
        "    values.append(v)\n",
        "if len(keys)==len(values):\n",
        "    result_dict = dict(zip(keys, values)) \n",
        "    print(result_dict)\n",
        "else:\n",
        "    result_dict={}\n",
        "    print('list lengths are not the same')"
      ]
    },
    {
      "cell_type": "code",
      "execution_count": 27,
      "id": "82b52e27",
      "metadata": {},
      "outputs": [],
      "source": [
        "def convert_to_dict(keys=[], values=[]):\n",
        "\n",
        "    if len(keys) != len(values):\n",
        "        print(\"List lengths are not the same\")\n",
        "        return {}\n",
        "\n",
        "    result_dict = {}\n",
        "    for i in range(len(keys)):\n",
        "        result_dict[keys[i]] = values[i]\n",
        "\n",
        "    return result_dict"
      ]
    },
    {
      "cell_type": "markdown",
      "id": "8b3fa100",
      "metadata": {
        "id": "8b3fa100"
      },
      "source": [
        "Call the function convert_to_dict on the two lists below, and store the resulting dictionary in a variable fruit_prices. Print fruit_prices."
      ]
    },
    {
      "cell_type": "code",
      "execution_count": 28,
      "id": "38226d44",
      "metadata": {
        "id": "38226d44"
      },
      "outputs": [
        {
          "data": {
            "text/plain": [
              "{'Orange': 34, 'Tomato': 5, 'Banana': 10, 'Apple': 38}"
            ]
          },
          "execution_count": 28,
          "metadata": {},
          "output_type": "execute_result"
        }
      ],
      "source": [
        "lstA = ['Orange', 'Tomato', 'Banana', 'Apple']\n",
        "lstB = [34, 5, 10, 38]\n",
        "\n",
        "#call convert_to_dict on lstA and lstB and store the result in fruit_prices\n",
        "\n",
        "convert_to_dict(lstA, lstB)"
      ]
    },
    {
      "cell_type": "markdown",
      "id": "922c6ce9",
      "metadata": {
        "id": "922c6ce9"
      },
      "source": [
        "Call the function convert_to_dict on the two lists below"
      ]
    },
    {
      "cell_type": "code",
      "execution_count": 29,
      "id": "697f5f44",
      "metadata": {
        "id": "697f5f44"
      },
      "outputs": [
        {
          "name": "stdout",
          "output_type": "stream",
          "text": [
            "List lengths are not the same\n"
          ]
        },
        {
          "data": {
            "text/plain": [
              "{}"
            ]
          },
          "execution_count": 29,
          "metadata": {},
          "output_type": "execute_result"
        }
      ],
      "source": [
        "lstC = ['Orange', 'Tomato', 'Banana', 'Apple', 'Mango', 'Watermelon']\n",
        "lstD = [34, 5, 10, 38]\n",
        "\n",
        "#call convert_to_dict on lstC and lstD\n",
        "\n",
        "convert_to_dict(lstC, lstD)"
      ]
    },
    {
      "cell_type": "markdown",
      "id": "428d1681",
      "metadata": {
        "id": "428d1681"
      },
      "source": [
        "Call the function convert_to_dict with no arguments"
      ]
    },
    {
      "cell_type": "code",
      "execution_count": 30,
      "id": "3a41a8cb",
      "metadata": {
        "id": "3a41a8cb"
      },
      "outputs": [
        {
          "data": {
            "text/plain": [
              "{}"
            ]
          },
          "execution_count": 30,
          "metadata": {},
          "output_type": "execute_result"
        }
      ],
      "source": [
        "#call convert_to_dict with no arguments\n",
        "\n",
        "convert_to_dict()"
      ]
    },
    {
      "cell_type": "markdown",
      "id": "adf6d191",
      "metadata": {
        "id": "adf6d191"
      },
      "source": [
        "Now, convert the following two lists into a single dictionary but this time, **use dictionary comprehension.** (consult your session 5 notebook). Print out the dictionary at the end."
      ]
    },
    {
      "cell_type": "code",
      "execution_count": 31,
      "id": "fc857e39",
      "metadata": {
        "id": "fc857e39"
      },
      "outputs": [
        {
          "data": {
            "text/plain": [
              "{'Ten': 10, 'Twenty': 20, 'Thirty': 30, 'Forty': 40}"
            ]
          },
          "execution_count": 31,
          "metadata": {},
          "output_type": "execute_result"
        }
      ],
      "source": [
        "#Now, convert the following two lists into a single dictionary but this time, use dictionary comprehension. Print out the dictionary at the end.\n",
        "\n",
        "keys = ['Ten', 'Twenty', 'Thirty', 'Forty']\n",
        "values = [10, 20, 30, 40]\n",
        "\n",
        "dictionary =  {key: value for key, value in zip(keys, values)}\n",
        "dictionary"
      ]
    },
    {
      "cell_type": "markdown",
      "id": "fd35dd87",
      "metadata": {
        "id": "fd35dd87"
      },
      "source": [
        "#### [QUESTION 8]\n",
        "\n",
        "Here is a while loop number guessing game. Change the code according to the following:\n",
        "\n",
        "1) Set an answer <br>\n",
        "2) Give the user **five** guesses <br>\n",
        "3) First msg should read \"Please enter your first guess: \" <br>\n",
        "4) At each guess, tell the user if their guess is too high or too low. your msg should read \"too high! try again: \" or \"too low! try again: \". <br>\n",
        "5) However, if the difference between the guess and answer is 3 points or less in either direction, your msg should read \"very close! go higher: \" or \"very close! go lower: \". <br>\n",
        "6) If the player loses, show \"Sorry, you lost! The answer was __\" <br>\n",
        "7) If the player wins, show \"Congratulations! You guessed it!\"\n",
        "\n",
        "\n",
        "(play it with different values of answer to test it)"
      ]
    },
    {
      "cell_type": "code",
      "execution_count": 32,
      "id": "e5e8c68d",
      "metadata": {},
      "outputs": [
        {
          "name": "stdout",
          "output_type": "stream",
          "text": [
            "congratulations! you won!\n"
          ]
        }
      ],
      "source": [
        "#change the following game according to the guidelines above\n",
        "\n",
        "answer = 50\n",
        "#guesses = 3\n",
        "guesses = 5\n",
        "user_input= int(input(\"Please enter your first guess: \"))\n",
        "\n",
        "\n",
        "while user_input != answer:\n",
        "\n",
        "    guesses -= 1\n",
        "\n",
        "    if guesses == 0:\n",
        "        print(\"you lost. Sorry!\")\n",
        "        break\n",
        "    elif user_input - answer > 3:\n",
        "        user_input = int(input(\"Too high! Try again: \"))\n",
        "    elif user_input - answer < -3:\n",
        "        user_input = int(input(\"Too low! Try again: \"))\n",
        "    elif 1 <= user_input - answer <= 3:\n",
        "        user_input = int(input(\"Very close! Go lower: \"))\n",
        "    elif -3 <= user_input - answer <= -1:\n",
        "        user_input = int(input(\"Very close! Go higher: \"))\n",
        "\n",
        "else:\n",
        "\n",
        "    print(\"congratulations! you won!\")\n",
        "\n"
      ]
    },
    {
      "cell_type": "markdown",
      "id": "e922841f",
      "metadata": {
        "id": "e922841f"
      },
      "source": [
        "#### [QUESTION 9]\n",
        "\n",
        "Design a function called **case_check()**. this function should take a string as an input and return a dictionary giving the count of uppercase and lowercase letters in the string. for example:\n",
        "\n",
        "case_check(\"I aM goInG OuT!\") should return {'Upper': 6, 'Lower': 5}\n"
      ]
    },
    {
      "cell_type": "code",
      "execution_count": 38,
      "id": "90b45848",
      "metadata": {
        "id": "90b45848"
      },
      "outputs": [],
      "source": [
        "#write your function below\n",
        "\n",
        "def case_check(string):\n",
        "    upper = 0\n",
        "    lower = 0\n",
        "    for i in string:\n",
        "        if i.isupper():\n",
        "            upper += 1\n",
        "        elif i.islower():\n",
        "            lower += 1\n",
        "    return {\"UPPER\": upper, \"LOWER\": lower}\n"
      ]
    },
    {
      "cell_type": "markdown",
      "id": "3c01612e",
      "metadata": {
        "id": "3c01612e"
      },
      "source": [
        "Test case_check on the following strings and print out the result of each string. No need to store in variables."
      ]
    },
    {
      "cell_type": "code",
      "execution_count": 40,
      "id": "5f89ccd0",
      "metadata": {
        "id": "5f89ccd0"
      },
      "outputs": [
        {
          "name": "stdout",
          "output_type": "stream",
          "text": [
            "{'UPPER': 9, 'LOWER': 9} {'UPPER': 3, 'LOWER': 2} {'UPPER': 9, 'LOWER': 12}\n"
          ]
        }
      ],
      "source": [
        "string1 = 'tHIs IS a PytHoN cLAss!'\n",
        "string2 = 'Ab%4DcP432'\n",
        "string3 = 'HellO! WhAt cAn I do FoR yOu?'\n",
        "\n",
        "\n",
        "#below, call case_check on each of the above strings\n",
        "\n",
        "\n",
        "r1=case_check(string1)\n",
        "r2=case_check(string2)\n",
        "r3=case_check(string3)\n",
        "print(r1,r2,r3)\n"
      ]
    },
    {
      "cell_type": "markdown",
      "id": "86072b01",
      "metadata": {
        "id": "86072b01"
      },
      "source": [
        "#### [QUESTION 10]\n",
        "\n",
        "Design a function called **square()** that takes in any number of integers as arguments and **prints** out the square of each argument. You should be able to flexibly give this function any number of arguments. for example\n",
        "\n",
        "square(1,7,-4,2) should print the following:\n",
        "\n",
        "square of 1 is 1 <br>\n",
        "square of 7 is 49 <br>\n",
        "square of -4 is 16 <br>\n",
        "square of 2 is 4 <br>"
      ]
    },
    {
      "cell_type": "code",
      "execution_count": 35,
      "id": "b3d2f9d0",
      "metadata": {
        "id": "b3d2f9d0"
      },
      "outputs": [],
      "source": [
        "#write your function below\n",
        "def square(*args):\n",
        "    for num in args:\n",
        "        print(\"Square of\", num, \"is\", num**2)"
      ]
    },
    {
      "cell_type": "markdown",
      "id": "7fdafa37",
      "metadata": {
        "id": "7fdafa37"
      },
      "source": [
        "Test your function with the following calls:"
      ]
    },
    {
      "cell_type": "code",
      "execution_count": 36,
      "id": "4c58f7ba",
      "metadata": {
        "id": "4c58f7ba"
      },
      "outputs": [
        {
          "name": "stdout",
          "output_type": "stream",
          "text": [
            "Square of 1 is 1\n",
            "Square of 7 is 49\n",
            "Square of -4 is 16\n",
            "Square of 2 is 4\n",
            "\n",
            "\n",
            "Square of 10 is 100\n",
            "Square of -9 is 81\n",
            "Square of 0 is 0\n",
            "\n",
            "\n",
            "Square of 2 is 4\n",
            "Square of 3 is 9\n",
            "\n",
            "\n",
            "\n",
            "\n"
          ]
        }
      ],
      "source": [
        "square(1, 7, -4, 2)\n",
        "print(\"\\n\")\n",
        "\n",
        "square(10, -9, 0)\n",
        "print(\"\\n\")\n",
        "\n",
        "square(2,3)\n",
        "print(\"\\n\")\n",
        "\n",
        "square()\n",
        "print(\"\\n\")\n"
      ]
    },
    {
      "cell_type": "markdown",
      "id": "ae02c11f",
      "metadata": {
        "id": "ae02c11f"
      },
      "source": [
        "#### [Question 11]\n",
        "\n",
        "Using a lambda function with map, return a list that contains areas of circles with the following radii (use 3.14 for pi). Print out the areas list.\n",
        "\n",
        "Remember: you will need to give map a lambda function and a list to apply the lambda function to. Also, to get a list instead of a map object, you need to put map inside the list function.\n",
        "\n",
        "list(map(**your lambda function**, **your list**))"
      ]
    },
    {
      "cell_type": "code",
      "execution_count": 37,
      "id": "cd6bdb53",
      "metadata": {
        "id": "cd6bdb53"
      },
      "outputs": [
        {
          "name": "stdout",
          "output_type": "stream",
          "text": [
            "[28.26, 78.5, 113.04, 314.0]\n"
          ]
        }
      ],
      "source": [
        "radii = [3, 5, 6, 10]\n",
        "\n",
        "areas = list(map(lambda r: 3.14 * r ** 2, radii))\n",
        "\n",
        "\n",
        "#print out areas below\n",
        "print(areas)"
      ]
    }
  ],
  "metadata": {
    "colab": {
      "provenance": []
    },
    "kernelspec": {
      "display_name": "Python 3 (ipykernel)",
      "language": "python",
      "name": "python3"
    },
    "language_info": {
      "codemirror_mode": {
        "name": "ipython",
        "version": 3
      },
      "file_extension": ".py",
      "mimetype": "text/x-python",
      "name": "python",
      "nbconvert_exporter": "python",
      "pygments_lexer": "ipython3",
      "version": "3.11.4"
    }
  },
  "nbformat": 4,
  "nbformat_minor": 5
}
